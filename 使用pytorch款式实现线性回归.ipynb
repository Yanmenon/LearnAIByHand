{
 "cells": [
  {
   "cell_type": "code",
   "execution_count": 24,
   "metadata": {},
   "outputs": [],
   "source": [
    "import numpy as np\n",
    "import torch\n",
    "from torch.utils import data\n",
    "from d2l import torch as d2l"
   ]
  },
  {
   "cell_type": "code",
   "execution_count": 25,
   "metadata": {},
   "outputs": [],
   "source": [
    "true_w=torch.tensor([2,-3.4])\n",
    "true_b=4.2\n",
    "features,lables=d2l.synthetic_data(true_w,true_b,1000)"
   ]
  },
  {
   "cell_type": "code",
   "execution_count": 32,
   "metadata": {},
   "outputs": [
    {
     "data": {
      "text/plain": [
       "[tensor([[-0.2575,  1.2848],\n",
       "         [-0.0963, -0.1815],\n",
       "         [-1.0414,  0.8867],\n",
       "         [ 0.2096,  0.5213],\n",
       "         [ 1.9070,  0.0081],\n",
       "         [ 1.5326,  0.4403],\n",
       "         [ 0.1355,  1.0797],\n",
       "         [-0.1738,  0.7638],\n",
       "         [ 1.1719, -1.6073],\n",
       "         [ 1.8218,  1.0896]]),\n",
       " tensor([[-0.6937],\n",
       "         [ 4.6166],\n",
       "         [-0.8983],\n",
       "         [ 2.8539],\n",
       "         [ 7.9728],\n",
       "         [ 5.7797],\n",
       "         [ 0.7884],\n",
       "         [ 1.2571],\n",
       "         [12.0023],\n",
       "         [ 4.1334]])]"
      ]
     },
     "execution_count": 32,
     "metadata": {},
     "output_type": "execute_result"
    }
   ],
   "source": [
    "#调用框架中现有的API来读取数据\n",
    "def load_array(data_arrays,batch_size,is_train=True):\n",
    "    dataset=data.TensorDataset(*data_arrays)\n",
    "    return data.DataLoader(dataset,batch_size,shuffle=is_train)\n",
    "\n",
    "batch_size=10\n",
    "data_iter=load_array((features,lables),batch_size)\n",
    "\n",
    "next(iter(data_iter))"
   ]
  },
  {
   "cell_type": "code",
   "execution_count": 33,
   "metadata": {},
   "outputs": [],
   "source": [
    "#'nn'是神经网络的缩写\n",
    "from torch import nn\n",
    "#nn.Linear(2,1):表示是一个全连接层，即是一个线性层，\n",
    "#表示输入的数据维度是2,输出的数据维度是1\n",
    "net=nn.Sequential(nn.Linear(2,1))"
   ]
  },
  {
   "cell_type": "code",
   "execution_count": 34,
   "metadata": {},
   "outputs": [
    {
     "data": {
      "text/plain": [
       "tensor([0.])"
      ]
     },
     "execution_count": 34,
     "metadata": {},
     "output_type": "execute_result"
    }
   ],
   "source": [
    "net[0].weight.data.normal_(0,0.01)\n",
    "net[0].bias.data.fill_(0)"
   ]
  },
  {
   "cell_type": "code",
   "execution_count": 35,
   "metadata": {},
   "outputs": [],
   "source": [
    "#计算均方误差使用的是MSELoss类，也称为平方范数\n",
    "loss=nn.MSELoss()"
   ]
  },
  {
   "cell_type": "code",
   "execution_count": 36,
   "metadata": {},
   "outputs": [],
   "source": [
    "#实例化SGD实例,parameters()其中包括参数w和b\n",
    "trainer=torch.optim.SGD(net.parameters(),lr=0.03)"
   ]
  },
  {
   "cell_type": "code",
   "execution_count": 47,
   "metadata": {},
   "outputs": [
    {
     "name": "stdout",
     "output_type": "stream",
     "text": [
      "epoch1,loss0.000097\n",
      "epoch2,loss0.000096\n",
      "epoch3,loss0.000097\n"
     ]
    }
   ],
   "source": [
    "#网络训练过程\n",
    "num_epochs=3\n",
    "for epoch in range(num_epochs):\n",
    "#     \"\"\"1.加载批量数据\"\"\"\n",
    "    for X,y in data_iter:\n",
    "#     \"\"\"2.带入网络中进行得到预测值\"\"\"\n",
    "        y_hat=net(X)\n",
    "#     \"\"\"3.求出预测值和现实值之间的损失\"\"\"\n",
    "        l=loss(y_hat,y)\n",
    "#     \"\"\"4.梯度清零便于计算\"\"\"\n",
    "        trainer.zero_grad()\n",
    "#     \"\"\"5.反向传播优化梯度\"\"\"\n",
    "        l.backward()\n",
    "#     \"\"\"6.进行梯度下降\"\"\"\n",
    "        trainer.step()\n",
    "    l=loss(net(features),lables)\n",
    "    print(f'epoch{epoch+1},loss{l:f}')"
   ]
  },
  {
   "cell_type": "code",
   "execution_count": null,
   "metadata": {},
   "outputs": [],
   "source": []
  },
  {
   "cell_type": "code",
   "execution_count": null,
   "metadata": {},
   "outputs": [],
   "source": []
  }
 ],
 "metadata": {
  "kernelspec": {
   "display_name": "Pytorch",
   "language": "python",
   "name": "pytorch"
  },
  "language_info": {
   "codemirror_mode": {
    "name": "ipython",
    "version": 3
   },
   "file_extension": ".py",
   "mimetype": "text/x-python",
   "name": "python",
   "nbconvert_exporter": "python",
   "pygments_lexer": "ipython3",
   "version": "3.8.13"
  }
 },
 "nbformat": 4,
 "nbformat_minor": 4
}
